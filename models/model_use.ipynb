{
 "cells": [
  {
   "cell_type": "code",
   "id": "f2a94114491c2181",
   "metadata": {
    "ExecuteTime": {
     "end_time": "2024-12-19T13:12:46.240019Z",
     "start_time": "2024-12-19T13:12:45.997867Z"
    }
   },
   "source": [
    "#读取模型\n",
    "import joblib\n",
    "import pandas as pd\n",
    "\n",
    "from sklearn.linear_model import LogisticRegression\n",
    "from sklearn.datasets import make_classification\n",
    "from sklearn.model_selection import train_test_split\n",
    "\n",
    "#各种评价标准\n",
    "from sklearn.metrics import accuracy_score\n",
    "from sklearn.metrics import precision_score\n",
    "from sklearn.metrics import recall_score\n",
    "from sklearn.metrics import f1_score\n",
    "#用来画图比较\n",
    "from sklearn.metrics import roc_curve\n",
    "from sklearn.metrics import roc_auc_score\n",
    "import matplotlib.pyplot as plt \n",
    "import matplotlib as mpl"
   ],
   "outputs": [],
   "execution_count": 1
  },
  {
   "cell_type": "code",
   "id": "initial_id",
   "metadata": {
    "ExecuteTime": {
     "end_time": "2024-12-19T13:12:46.396697Z",
     "start_time": "2024-12-19T13:12:46.240019Z"
    }
   },
   "source": [
    "#读取测试集\n",
    "test_x = pd.read_csv(r\"D:\\social-media-usage-and-emotional-well-being\\pythonProject\\Data preprocessing\\test_x.csv\")\n",
    "test_y = pd.read_csv(r\"D:\\social-media-usage-and-emotional-well-being\\pythonProject\\Data preprocessing\\test_y.csv\")\n",
    "#读取模型\n",
    "Decision_Tree_model = joblib.load('Decision_Tree_model.pickle')\n",
    "GaussianNB_model = joblib.load('GaussianNB_model.pickle')\n",
    "knn_model = joblib.load('knn_model.pickle')\n",
    "svm_model = joblib.load('svm_model.pickle')\n",
    "bagging_clf = joblib.load('bagging_clf.pickle')"
   ],
   "outputs": [],
   "execution_count": 2
  },
  {
   "cell_type": "code",
   "id": "909c0a559097b775",
   "metadata": {
    "ExecuteTime": {
     "end_time": "2024-12-19T13:12:46.415564Z",
     "start_time": "2024-12-19T13:12:46.398132Z"
    }
   },
   "source": [
    "test_x"
   ],
   "outputs": [
    {
     "data": {
      "text/plain": [
       "     Age  Daily_Usage_Time (minutes)  Posts_Per_Day  Likes_Received_Per_Day  \\\n",
       "0     27                         120              4                      40   \n",
       "1     21                          60              1                      18   \n",
       "2     28                         115              3                      38   \n",
       "3     27                         105              3                      48   \n",
       "4     21                          55              3                      17   \n",
       "..   ...                         ...            ...                     ...   \n",
       "97    22                          70              1                      20   \n",
       "98    33                          85              4                      35   \n",
       "99    24                         110              6                      35   \n",
       "100   24                          75              3                      37   \n",
       "101   27                          60              1                      10   \n",
       "\n",
       "     Comments_Received_Per_Day  Messages_Sent_Per_Day  Gender_Male  \\\n",
       "0                           18                     22        False   \n",
       "1                            7                     12        False   \n",
       "2                           18                     27        False   \n",
       "3                           20                     28         True   \n",
       "4                            7                     12        False   \n",
       "..                         ...                    ...          ...   \n",
       "97                           5                     22         True   \n",
       "98                          18                     18         True   \n",
       "99                          23                     25        False   \n",
       "100                         16                     22         True   \n",
       "101                          4                     15         True   \n",
       "\n",
       "     Gender_Non-binary  Platform_Instagram  Platform_LinkedIn  \\\n",
       "0                False               False              False   \n",
       "1                 True               False              False   \n",
       "2                 True               False              False   \n",
       "3                False               False              False   \n",
       "4                 True               False              False   \n",
       "..                 ...                 ...                ...   \n",
       "97               False               False              False   \n",
       "98               False               False               True   \n",
       "99                True               False              False   \n",
       "100              False               False              False   \n",
       "101              False               False              False   \n",
       "\n",
       "     Platform_Snapchat  Platform_Telegram  Platform_Twitter  Platform_Whatsapp  \n",
       "0                 True              False             False              False  \n",
       "1                 True              False             False              False  \n",
       "2                 True              False             False              False  \n",
       "3                False               True             False              False  \n",
       "4                False              False             False              False  \n",
       "..                 ...                ...               ...                ...  \n",
       "97               False              False              True              False  \n",
       "98               False              False             False              False  \n",
       "99               False              False             False              False  \n",
       "100              False               True             False              False  \n",
       "101              False              False             False              False  \n",
       "\n",
       "[102 rows x 14 columns]"
      ],
      "text/html": [
       "<div>\n",
       "<style scoped>\n",
       "    .dataframe tbody tr th:only-of-type {\n",
       "        vertical-align: middle;\n",
       "    }\n",
       "\n",
       "    .dataframe tbody tr th {\n",
       "        vertical-align: top;\n",
       "    }\n",
       "\n",
       "    .dataframe thead th {\n",
       "        text-align: right;\n",
       "    }\n",
       "</style>\n",
       "<table border=\"1\" class=\"dataframe\">\n",
       "  <thead>\n",
       "    <tr style=\"text-align: right;\">\n",
       "      <th></th>\n",
       "      <th>Age</th>\n",
       "      <th>Daily_Usage_Time (minutes)</th>\n",
       "      <th>Posts_Per_Day</th>\n",
       "      <th>Likes_Received_Per_Day</th>\n",
       "      <th>Comments_Received_Per_Day</th>\n",
       "      <th>Messages_Sent_Per_Day</th>\n",
       "      <th>Gender_Male</th>\n",
       "      <th>Gender_Non-binary</th>\n",
       "      <th>Platform_Instagram</th>\n",
       "      <th>Platform_LinkedIn</th>\n",
       "      <th>Platform_Snapchat</th>\n",
       "      <th>Platform_Telegram</th>\n",
       "      <th>Platform_Twitter</th>\n",
       "      <th>Platform_Whatsapp</th>\n",
       "    </tr>\n",
       "  </thead>\n",
       "  <tbody>\n",
       "    <tr>\n",
       "      <th>0</th>\n",
       "      <td>27</td>\n",
       "      <td>120</td>\n",
       "      <td>4</td>\n",
       "      <td>40</td>\n",
       "      <td>18</td>\n",
       "      <td>22</td>\n",
       "      <td>False</td>\n",
       "      <td>False</td>\n",
       "      <td>False</td>\n",
       "      <td>False</td>\n",
       "      <td>True</td>\n",
       "      <td>False</td>\n",
       "      <td>False</td>\n",
       "      <td>False</td>\n",
       "    </tr>\n",
       "    <tr>\n",
       "      <th>1</th>\n",
       "      <td>21</td>\n",
       "      <td>60</td>\n",
       "      <td>1</td>\n",
       "      <td>18</td>\n",
       "      <td>7</td>\n",
       "      <td>12</td>\n",
       "      <td>False</td>\n",
       "      <td>True</td>\n",
       "      <td>False</td>\n",
       "      <td>False</td>\n",
       "      <td>True</td>\n",
       "      <td>False</td>\n",
       "      <td>False</td>\n",
       "      <td>False</td>\n",
       "    </tr>\n",
       "    <tr>\n",
       "      <th>2</th>\n",
       "      <td>28</td>\n",
       "      <td>115</td>\n",
       "      <td>3</td>\n",
       "      <td>38</td>\n",
       "      <td>18</td>\n",
       "      <td>27</td>\n",
       "      <td>False</td>\n",
       "      <td>True</td>\n",
       "      <td>False</td>\n",
       "      <td>False</td>\n",
       "      <td>True</td>\n",
       "      <td>False</td>\n",
       "      <td>False</td>\n",
       "      <td>False</td>\n",
       "    </tr>\n",
       "    <tr>\n",
       "      <th>3</th>\n",
       "      <td>27</td>\n",
       "      <td>105</td>\n",
       "      <td>3</td>\n",
       "      <td>48</td>\n",
       "      <td>20</td>\n",
       "      <td>28</td>\n",
       "      <td>True</td>\n",
       "      <td>False</td>\n",
       "      <td>False</td>\n",
       "      <td>False</td>\n",
       "      <td>False</td>\n",
       "      <td>True</td>\n",
       "      <td>False</td>\n",
       "      <td>False</td>\n",
       "    </tr>\n",
       "    <tr>\n",
       "      <th>4</th>\n",
       "      <td>21</td>\n",
       "      <td>55</td>\n",
       "      <td>3</td>\n",
       "      <td>17</td>\n",
       "      <td>7</td>\n",
       "      <td>12</td>\n",
       "      <td>False</td>\n",
       "      <td>True</td>\n",
       "      <td>False</td>\n",
       "      <td>False</td>\n",
       "      <td>False</td>\n",
       "      <td>False</td>\n",
       "      <td>False</td>\n",
       "      <td>False</td>\n",
       "    </tr>\n",
       "    <tr>\n",
       "      <th>...</th>\n",
       "      <td>...</td>\n",
       "      <td>...</td>\n",
       "      <td>...</td>\n",
       "      <td>...</td>\n",
       "      <td>...</td>\n",
       "      <td>...</td>\n",
       "      <td>...</td>\n",
       "      <td>...</td>\n",
       "      <td>...</td>\n",
       "      <td>...</td>\n",
       "      <td>...</td>\n",
       "      <td>...</td>\n",
       "      <td>...</td>\n",
       "      <td>...</td>\n",
       "    </tr>\n",
       "    <tr>\n",
       "      <th>97</th>\n",
       "      <td>22</td>\n",
       "      <td>70</td>\n",
       "      <td>1</td>\n",
       "      <td>20</td>\n",
       "      <td>5</td>\n",
       "      <td>22</td>\n",
       "      <td>True</td>\n",
       "      <td>False</td>\n",
       "      <td>False</td>\n",
       "      <td>False</td>\n",
       "      <td>False</td>\n",
       "      <td>False</td>\n",
       "      <td>True</td>\n",
       "      <td>False</td>\n",
       "    </tr>\n",
       "    <tr>\n",
       "      <th>98</th>\n",
       "      <td>33</td>\n",
       "      <td>85</td>\n",
       "      <td>4</td>\n",
       "      <td>35</td>\n",
       "      <td>18</td>\n",
       "      <td>18</td>\n",
       "      <td>True</td>\n",
       "      <td>False</td>\n",
       "      <td>False</td>\n",
       "      <td>True</td>\n",
       "      <td>False</td>\n",
       "      <td>False</td>\n",
       "      <td>False</td>\n",
       "      <td>False</td>\n",
       "    </tr>\n",
       "    <tr>\n",
       "      <th>99</th>\n",
       "      <td>24</td>\n",
       "      <td>110</td>\n",
       "      <td>6</td>\n",
       "      <td>35</td>\n",
       "      <td>23</td>\n",
       "      <td>25</td>\n",
       "      <td>False</td>\n",
       "      <td>True</td>\n",
       "      <td>False</td>\n",
       "      <td>False</td>\n",
       "      <td>False</td>\n",
       "      <td>False</td>\n",
       "      <td>False</td>\n",
       "      <td>False</td>\n",
       "    </tr>\n",
       "    <tr>\n",
       "      <th>100</th>\n",
       "      <td>24</td>\n",
       "      <td>75</td>\n",
       "      <td>3</td>\n",
       "      <td>37</td>\n",
       "      <td>16</td>\n",
       "      <td>22</td>\n",
       "      <td>True</td>\n",
       "      <td>False</td>\n",
       "      <td>False</td>\n",
       "      <td>False</td>\n",
       "      <td>False</td>\n",
       "      <td>True</td>\n",
       "      <td>False</td>\n",
       "      <td>False</td>\n",
       "    </tr>\n",
       "    <tr>\n",
       "      <th>101</th>\n",
       "      <td>27</td>\n",
       "      <td>60</td>\n",
       "      <td>1</td>\n",
       "      <td>10</td>\n",
       "      <td>4</td>\n",
       "      <td>15</td>\n",
       "      <td>True</td>\n",
       "      <td>False</td>\n",
       "      <td>False</td>\n",
       "      <td>False</td>\n",
       "      <td>False</td>\n",
       "      <td>False</td>\n",
       "      <td>False</td>\n",
       "      <td>False</td>\n",
       "    </tr>\n",
       "  </tbody>\n",
       "</table>\n",
       "<p>102 rows × 14 columns</p>\n",
       "</div>"
      ]
     },
     "execution_count": 3,
     "metadata": {},
     "output_type": "execute_result"
    }
   ],
   "execution_count": 3
  },
  {
   "cell_type": "code",
   "id": "b02292b74362df2",
   "metadata": {
    "ExecuteTime": {
     "end_time": "2024-12-19T13:12:46.426716Z",
     "start_time": "2024-12-19T13:12:46.416723Z"
    }
   },
   "source": [
    "test_y"
   ],
   "outputs": [
    {
     "data": {
      "text/plain": [
       "    Dominant_Emotion\n",
       "0            Neutral\n",
       "1            Neutral\n",
       "2            Anxiety\n",
       "3            Anxiety\n",
       "4            Neutral\n",
       "..               ...\n",
       "97           Neutral\n",
       "98           Boredom\n",
       "99           Sadness\n",
       "100          Neutral\n",
       "101          Boredom\n",
       "\n",
       "[102 rows x 1 columns]"
      ],
      "text/html": [
       "<div>\n",
       "<style scoped>\n",
       "    .dataframe tbody tr th:only-of-type {\n",
       "        vertical-align: middle;\n",
       "    }\n",
       "\n",
       "    .dataframe tbody tr th {\n",
       "        vertical-align: top;\n",
       "    }\n",
       "\n",
       "    .dataframe thead th {\n",
       "        text-align: right;\n",
       "    }\n",
       "</style>\n",
       "<table border=\"1\" class=\"dataframe\">\n",
       "  <thead>\n",
       "    <tr style=\"text-align: right;\">\n",
       "      <th></th>\n",
       "      <th>Dominant_Emotion</th>\n",
       "    </tr>\n",
       "  </thead>\n",
       "  <tbody>\n",
       "    <tr>\n",
       "      <th>0</th>\n",
       "      <td>Neutral</td>\n",
       "    </tr>\n",
       "    <tr>\n",
       "      <th>1</th>\n",
       "      <td>Neutral</td>\n",
       "    </tr>\n",
       "    <tr>\n",
       "      <th>2</th>\n",
       "      <td>Anxiety</td>\n",
       "    </tr>\n",
       "    <tr>\n",
       "      <th>3</th>\n",
       "      <td>Anxiety</td>\n",
       "    </tr>\n",
       "    <tr>\n",
       "      <th>4</th>\n",
       "      <td>Neutral</td>\n",
       "    </tr>\n",
       "    <tr>\n",
       "      <th>...</th>\n",
       "      <td>...</td>\n",
       "    </tr>\n",
       "    <tr>\n",
       "      <th>97</th>\n",
       "      <td>Neutral</td>\n",
       "    </tr>\n",
       "    <tr>\n",
       "      <th>98</th>\n",
       "      <td>Boredom</td>\n",
       "    </tr>\n",
       "    <tr>\n",
       "      <th>99</th>\n",
       "      <td>Sadness</td>\n",
       "    </tr>\n",
       "    <tr>\n",
       "      <th>100</th>\n",
       "      <td>Neutral</td>\n",
       "    </tr>\n",
       "    <tr>\n",
       "      <th>101</th>\n",
       "      <td>Boredom</td>\n",
       "    </tr>\n",
       "  </tbody>\n",
       "</table>\n",
       "<p>102 rows × 1 columns</p>\n",
       "</div>"
      ]
     },
     "execution_count": 4,
     "metadata": {},
     "output_type": "execute_result"
    }
   ],
   "execution_count": 4
  },
  {
   "cell_type": "code",
   "id": "d9735b208c297d0a",
   "metadata": {
    "ExecuteTime": {
     "end_time": "2024-12-19T13:12:46.448448Z",
     "start_time": "2024-12-19T13:12:46.427725Z"
    }
   },
   "source": [
    "#模型预测\n",
    "Decision_Tree_pred = Decision_Tree_model.predict(test_x)\n",
    "GaussianNB_pred = GaussianNB_model.predict(test_x)\n",
    "knn_pred = knn_model.predict(test_x)\n",
    "svm_pred = svm_model.predict(test_x)"
   ],
   "outputs": [],
   "execution_count": 5
  },
  {
   "cell_type": "markdown",
   "id": "61f17c47f0182538",
   "metadata": {},
   "source": [
    "决策树"
   ]
  },
  {
   "cell_type": "code",
   "id": "be219bf37105e87c",
   "metadata": {
    "ExecuteTime": {
     "end_time": "2024-12-19T13:12:46.468439Z",
     "start_time": "2024-12-19T13:12:46.449928Z"
    }
   },
   "source": [
    "Decision_Tree_precision = precision_score(test_y, Decision_Tree_pred, average='macro')\n",
    "Decision_Tree_recall = recall_score(test_y,       Decision_Tree_pred, average='micro')\n",
    "Decision_Tree_f1 = f1_score(test_y,               Decision_Tree_pred, average='weighted')\n",
    "Decision_Tree_accuracy = accuracy_score(test_y,   Decision_Tree_pred)\n",
    "print(\"\\nDecision_Tree_accuracy   \",Decision_Tree_accuracy,\n",
    "      \"\\nDecision_Tree_precision  \",Decision_Tree_precision,\n",
    "      \"\\nDecision_Tree_recall     \",Decision_Tree_recall,\n",
    "      \"\\nDecision_Tree_f1         \",Decision_Tree_f1)"
   ],
   "outputs": [
    {
     "name": "stdout",
     "output_type": "stream",
     "text": [
      "\n",
      "Decision_Tree_accuracy    0.9411764705882353 \n",
      "Decision_Tree_precision   0.9234126984126986 \n",
      "Decision_Tree_recall      0.9411764705882353 \n",
      "Decision_Tree_f1          0.94242850175804\n"
     ]
    }
   ],
   "execution_count": 6
  },
  {
   "cell_type": "markdown",
   "id": "7f0d9b9c8df1a988",
   "metadata": {},
   "source": [
    "高斯朴素贝叶斯"
   ]
  },
  {
   "cell_type": "code",
   "id": "786311d72c6159bf",
   "metadata": {
    "ExecuteTime": {
     "end_time": "2024-12-19T13:12:46.488875Z",
     "start_time": "2024-12-19T13:12:46.469708Z"
    }
   },
   "source": [
    "GaussianNB_precision = precision_score(test_y, GaussianNB_pred, average='macro')\n",
    "GaussianNB_recall = recall_score(test_y,       GaussianNB_pred, average='micro')\n",
    "GaussianNB_f1 = f1_score(test_y,               GaussianNB_pred, average='weighted')\n",
    "GaussianNB_accuracy = accuracy_score(test_y,   GaussianNB_pred)\n",
    "print(\"\\nGaussianNB_accuracy   \",GaussianNB_accuracy,\n",
    "      \"\\nGaussianNB_precision  \",GaussianNB_precision,\n",
    "      \"\\nGaussianNB_recall     \",GaussianNB_recall,\n",
    "      \"\\nGaussianNB_f1         \",GaussianNB_f1)"
   ],
   "outputs": [
    {
     "name": "stdout",
     "output_type": "stream",
     "text": [
      "\n",
      "GaussianNB_accuracy    0.37254901960784315 \n",
      "GaussianNB_precision   0.2778166278166278 \n",
      "GaussianNB_recall      0.37254901960784315 \n",
      "GaussianNB_f1          0.25447413486443143\n"
     ]
    },
    {
     "name": "stderr",
     "output_type": "stream",
     "text": [
      "D:\\social-media-usage-and-emotional-well-being\\pythonProject\\.venv\\Lib\\site-packages\\sklearn\\metrics\\_classification.py:1565: UndefinedMetricWarning: Precision is ill-defined and being set to 0.0 in labels with no predicted samples. Use `zero_division` parameter to control this behavior.\n",
      "  _warn_prf(average, modifier, f\"{metric.capitalize()} is\", len(result))\n"
     ]
    }
   ],
   "execution_count": 7
  },
  {
   "cell_type": "markdown",
   "id": "b2b6d0797dd9ab02",
   "metadata": {},
   "source": [
    "knn"
   ]
  },
  {
   "cell_type": "code",
   "id": "b7c316f5f7485108",
   "metadata": {
    "ExecuteTime": {
     "end_time": "2024-12-19T13:12:46.508433Z",
     "start_time": "2024-12-19T13:12:46.490140Z"
    }
   },
   "source": [
    "knn_precision = precision_score(test_y, knn_pred, average='macro')\n",
    "knn_recall = recall_score(test_y,       knn_pred, average='micro')\n",
    "knn_f1 = f1_score(test_y,               knn_pred, average='weighted')\n",
    "knn_accuracy = accuracy_score(test_y,   knn_pred)\n",
    "print(\"\\nknn_accuracy   \",knn_accuracy,\n",
    "      \"\\nknn_precision  \",knn_precision,\n",
    "      \"\\nknn_recall     \",knn_recall,\n",
    "      \"\\nknn_f1         \",knn_f1)"
   ],
   "outputs": [
    {
     "name": "stdout",
     "output_type": "stream",
     "text": [
      "\n",
      "knn_accuracy    0.9215686274509803 \n",
      "knn_precision   0.9085409189575855 \n",
      "knn_recall      0.9215686274509803 \n",
      "knn_f1          0.9219396426646769\n"
     ]
    }
   ],
   "execution_count": 8
  },
  {
   "cell_type": "markdown",
   "id": "ed3b90b8d4437505",
   "metadata": {},
   "source": [
    "支持向量机"
   ]
  },
  {
   "cell_type": "code",
   "id": "c180bda80f070b21",
   "metadata": {
    "ExecuteTime": {
     "end_time": "2024-12-19T13:12:46.532175Z",
     "start_time": "2024-12-19T13:12:46.509804Z"
    }
   },
   "source": [
    "svm_precision = precision_score(test_y, svm_pred, average='macro')\n",
    "svm_recall = recall_score(test_y, svm_pred, average='micro')\n",
    "svm_f1 = f1_score(test_y, svm_pred, average='weighted')\n",
    "svm_accuracy = accuracy_score(test_y, svm_pred)\n",
    "print(\"\\nknn_accuracy   \", svm_accuracy,\n",
    "      \"\\nknn_precision  \", svm_precision,\n",
    "      \"\\nknn_recall     \", svm_recall,\n",
    "      \"\\nknn_f1         \", svm_f1)"
   ],
   "outputs": [
    {
     "name": "stdout",
     "output_type": "stream",
     "text": [
      "\n",
      "knn_accuracy    0.9411764705882353 \n",
      "knn_precision   0.9381629240324894 \n",
      "knn_recall      0.9411764705882353 \n",
      "knn_f1          0.9411076711386309\n"
     ]
    }
   ],
   "execution_count": 9
  },
  {
   "cell_type": "markdown",
   "id": "f3f8f4e14ee635c6",
   "metadata": {},
   "source": [
    "集成学习"
   ]
  },
  {
   "cell_type": "code",
   "id": "d35f6e4f74801bf4",
   "metadata": {
    "ExecuteTime": {
     "end_time": "2024-12-19T13:12:46.552043Z",
     "start_time": "2024-12-19T13:12:46.533193Z"
    }
   },
   "source": [
    "bagging_clf_precision = precision_score(test_y, svm_pred, average='macro')\n",
    "bagging_clf_recall = recall_score(test_y, svm_pred, average='micro')\n",
    "bagging_clf_f1 = f1_score(test_y, svm_pred, average='weighted')\n",
    "bagging_clf_accuracy = accuracy_score(test_y, svm_pred)\n",
    "print(\"\\nbagging_clf_accuracy   \", bagging_clf_accuracy,\n",
    "      \"\\nbagging_clf_precision  \", bagging_clf_precision,\n",
    "      \"\\nbagging_clf_recall     \", bagging_clf_recall,\n",
    "      \"\\nbagging_clf_f1         \", bagging_clf_f1)"
   ],
   "outputs": [
    {
     "name": "stdout",
     "output_type": "stream",
     "text": [
      "\n",
      "bagging_clf_accuracy    0.9411764705882353 \n",
      "bagging_clf_precision   0.9381629240324894 \n",
      "bagging_clf_recall      0.9411764705882353 \n",
      "bagging_clf_f1          0.9411076711386309\n"
     ]
    }
   ],
   "execution_count": 10
  },
  {
   "cell_type": "markdown",
   "id": "3fbe1dc724152402",
   "metadata": {},
   "source": [
    "将五种模型放在一起对比"
   ]
  },
  {
   "cell_type": "code",
   "id": "7d5b46138e094676",
   "metadata": {
    "ExecuteTime": {
     "end_time": "2024-12-19T13:12:46.559196Z",
     "start_time": "2024-12-19T13:12:46.553306Z"
    }
   },
   "source": [
    "data = {\n",
    "    'Model': ['Decision Tree', 'Naive Bayes', 'K - Neighbors', 'Support Vector Machine', 'bagging_clf'],\n",
    "    'Accuracy': [Decision_Tree_accuracy, GaussianNB_accuracy, knn_accuracy, svm_accuracy, bagging_clf_accuracy],\n",
    "    'Precision': [Decision_Tree_precision, GaussianNB_precision, knn_precision, svm_precision, bagging_clf_precision],\n",
    "    'Recall': [Decision_Tree_recall, GaussianNB_recall, knn_recall, svm_recall, bagging_clf_recall],\n",
    "    'F1 - score': [Decision_Tree_f1, GaussianNB_f1, knn_f1, svm_f1, bagging_clf_f1],\n",
    "    \n",
    "}\n",
    "df = pd.DataFrame(data)"
   ],
   "outputs": [],
   "execution_count": 11
  },
  {
   "cell_type": "code",
   "id": "c527ce6eebc8af92",
   "metadata": {
    "ExecuteTime": {
     "end_time": "2024-12-19T13:12:46.720566Z",
     "start_time": "2024-12-19T13:12:46.561713Z"
    }
   },
   "source": [
    "mpl.rcParams['font.family'] = 'SimHei'\n",
    "plt.figure(figsize=(12, 8))\n",
    "bar_width = 0.2\n",
    "bar_positions_precision = range(len(df['Model']))\n",
    "bar_positions_recall = [pos + bar_width for pos in bar_positions_precision]\n",
    "bar_positions_f1 = [pos + 2 * bar_width for pos in bar_positions_precision]\n",
    "bar_positions_accuracy = [pos + 3 * bar_width for pos in bar_positions_precision]\n",
    "\n",
    "# 绘制Precision的条形图SS\n",
    "plt.bar(bar_positions_precision, df['Precision'], width=bar_width, label='Precision')\n",
    "# 绘制Recall的条形图\n",
    "plt.bar(bar_positions_recall, df['Recall'], width=bar_width, label='Recall')\n",
    "# 绘制F1 - score的条形图\n",
    "plt.bar(bar_positions_f1, df['F1 - score'], width=bar_width, label='F1 - score')\n",
    "# 绘制Accuracy的条形图\n",
    "plt.bar(bar_positions_accuracy, df['Accuracy'], width=bar_width, label='Accuracy')\n",
    "\n",
    "# plt.bar(bar_positions_accuracy, df['Accuracy'], width=bar_width, label='Accuracy')\n",
    "\n",
    "# 设置x轴标签\n",
    "plt.xticks([pos + 2 * bar_width for pos in bar_positions_precision], df['Model'])\n",
    "plt.xlabel('模型')\n",
    "plt.ylabel('成绩')\n",
    "plt.title('五种模型对比')\n",
    "plt.legend()\n",
    "plt.show()"
   ],
   "outputs": [
    {
     "data": {
      "text/plain": [
       "<Figure size 1200x800 with 1 Axes>"
      ],
      "image/png": "[encoded data removed]"
     },
     "metadata": {},
     "output_type": "display_data"
    }
   ],
   "execution_count": 12
  },
  {
   "metadata": {
    "ExecuteTime": {
     "end_time": "2024-12-19T13:12:46.724622Z",
     "start_time": "2024-12-19T13:12:46.722075Z"
    }
   },
   "cell_type": "code",
   "source": "",
   "id": "cccaa12d85acf715",
   "outputs": [],
   "execution_count": 12
  },
  {
   "metadata": {
    "ExecuteTime": {
     "end_time": "2024-12-19T13:12:46.739868Z",
     "start_time": "2024-12-19T13:12:46.725917Z"
    }
   },
   "cell_type": "code",
   "source": [
    "d = pd.DataFrame({'Age':[25],\n",
    "                  'Gender':['Male'],\n",
    "                  'Platform':['Instagram'],\n",
    "                  'Daily_Usage_Time (minutes)':[120],\n",
    "                  \"Posts_Per_Day\":[3],\n",
    "                  \"Likes_Received_Per_Day\":[45],\n",
    "                  \"Comments_Received_Per_Day\":[10],\n",
    "                  \"Messages_Sent_Per_Day\":[12]\n",
    "                  })\n",
    "if d.loc[0,\"Gender\"] == 'Male':\n",
    "    d[\"Gender_Male\" ] = [1]\n",
    "else:\n",
    "    d[\"Gender_Non-binary\"] = [1]\n",
    "d[\"Platform\" + \"_\" + str(d.loc[0,\"Platform\"])] = [1]\n",
    "d.drop(\"Platform\",axis = 1)\n",
    "d.drop(\"Gender\",axis = 1)"
   ],
   "id": "c2b3611c33e22c9",
   "outputs": [
    {
     "data": {
      "text/plain": [
       "   Age   Platform  Daily_Usage_Time (minutes)  Posts_Per_Day  \\\n",
       "0   25  Instagram                         120              3   \n",
       "\n",
       "   Likes_Received_Per_Day  Comments_Received_Per_Day  Messages_Sent_Per_Day  \\\n",
       "0                      45                         10                     12   \n",
       "\n",
       "   Gender_Male  Platform_Instagram  \n",
       "0            1                   1  "
      ],
      "text/html": [
       "<div>\n",
       "<style scoped>\n",
       "    .dataframe tbody tr th:only-of-type {\n",
       "        vertical-align: middle;\n",
       "    }\n",
       "\n",
       "    .dataframe tbody tr th {\n",
       "        vertical-align: top;\n",
       "    }\n",
       "\n",
       "    .dataframe thead th {\n",
       "        text-align: right;\n",
       "    }\n",
       "</style>\n",
       "<table border=\"1\" class=\"dataframe\">\n",
       "  <thead>\n",
       "    <tr style=\"text-align: right;\">\n",
       "      <th></th>\n",
       "      <th>Age</th>\n",
       "      <th>Platform</th>\n",
       "      <th>Daily_Usage_Time (minutes)</th>\n",
       "      <th>Posts_Per_Day</th>\n",
       "      <th>Likes_Received_Per_Day</th>\n",
       "      <th>Comments_Received_Per_Day</th>\n",
       "      <th>Messages_Sent_Per_Day</th>\n",
       "      <th>Gender_Male</th>\n",
       "      <th>Platform_Instagram</th>\n",
       "    </tr>\n",
       "  </thead>\n",
       "  <tbody>\n",
       "    <tr>\n",
       "      <th>0</th>\n",
       "      <td>25</td>\n",
       "      <td>Instagram</td>\n",
       "      <td>120</td>\n",
       "      <td>3</td>\n",
       "      <td>45</td>\n",
       "      <td>10</td>\n",
       "      <td>12</td>\n",
       "      <td>1</td>\n",
       "      <td>1</td>\n",
       "    </tr>\n",
       "  </tbody>\n",
       "</table>\n",
       "</div>"
      ]
     },
     "execution_count": 13,
     "metadata": {},
     "output_type": "execute_result"
    }
   ],
   "execution_count": 13
  },
  {
   "metadata": {
    "ExecuteTime": {
     "end_time": "2024-12-19T13:12:46.754577Z",
     "start_time": "2024-12-19T13:12:46.741379Z"
    }
   },
   "cell_type": "code",
   "source": [
    "missing_cols_test = set(test_x.columns) - set(d.columns)\n",
    "for col in missing_cols_test:\n",
    "    d[col] = 0\n",
    "d = d[test_x.columns]\n",
    "d"
   ],
   "id": "f4dbfb5bc6adda31",
   "outputs": [
    {
     "data": {
      "text/plain": [
       "   Age  Daily_Usage_Time (minutes)  Posts_Per_Day  Likes_Received_Per_Day  \\\n",
       "0   25                         120              3                      45   \n",
       "\n",
       "   Comments_Received_Per_Day  Messages_Sent_Per_Day  Gender_Male  \\\n",
       "0                         10                     12            1   \n",
       "\n",
       "   Gender_Non-binary  Platform_Instagram  Platform_LinkedIn  \\\n",
       "0                  0                   1                  0   \n",
       "\n",
       "   Platform_Snapchat  Platform_Telegram  Platform_Twitter  Platform_Whatsapp  \n",
       "0                  0                  0                 0                  0  "
      ],
      "text/html": [
       "<div>\n",
       "<style scoped>\n",
       "    .dataframe tbody tr th:only-of-type {\n",
       "        vertical-align: middle;\n",
       "    }\n",
       "\n",
       "    .dataframe tbody tr th {\n",
       "        vertical-align: top;\n",
       "    }\n",
       "\n",
       "    .dataframe thead th {\n",
       "        text-align: right;\n",
       "    }\n",
       "</style>\n",
       "<table border=\"1\" class=\"dataframe\">\n",
       "  <thead>\n",
       "    <tr style=\"text-align: right;\">\n",
       "      <th></th>\n",
       "      <th>Age</th>\n",
       "      <th>Daily_Usage_Time (minutes)</th>\n",
       "      <th>Posts_Per_Day</th>\n",
       "      <th>Likes_Received_Per_Day</th>\n",
       "      <th>Comments_Received_Per_Day</th>\n",
       "      <th>Messages_Sent_Per_Day</th>\n",
       "      <th>Gender_Male</th>\n",
       "      <th>Gender_Non-binary</th>\n",
       "      <th>Platform_Instagram</th>\n",
       "      <th>Platform_LinkedIn</th>\n",
       "      <th>Platform_Snapchat</th>\n",
       "      <th>Platform_Telegram</th>\n",
       "      <th>Platform_Twitter</th>\n",
       "      <th>Platform_Whatsapp</th>\n",
       "    </tr>\n",
       "  </thead>\n",
       "  <tbody>\n",
       "    <tr>\n",
       "      <th>0</th>\n",
       "      <td>25</td>\n",
       "      <td>120</td>\n",
       "      <td>3</td>\n",
       "      <td>45</td>\n",
       "      <td>10</td>\n",
       "      <td>12</td>\n",
       "      <td>1</td>\n",
       "      <td>0</td>\n",
       "      <td>1</td>\n",
       "      <td>0</td>\n",
       "      <td>0</td>\n",
       "      <td>0</td>\n",
       "      <td>0</td>\n",
       "      <td>0</td>\n",
       "    </tr>\n",
       "  </tbody>\n",
       "</table>\n",
       "</div>"
      ]
     },
     "execution_count": 14,
     "metadata": {},
     "output_type": "execute_result"
    }
   ],
   "execution_count": 14
  },
  {
   "metadata": {
    "ExecuteTime": {
     "end_time": "2024-12-19T13:12:46.767827Z",
     "start_time": "2024-12-19T13:12:46.755586Z"
    }
   },
   "cell_type": "code",
   "source": "test_x",
   "id": "b2cf4eb12fffe086",
   "outputs": [
    {
     "data": {
      "text/plain": [
       "     Age  Daily_Usage_Time (minutes)  Posts_Per_Day  Likes_Received_Per_Day  \\\n",
       "0     27                         120              4                      40   \n",
       "1     21                          60              1                      18   \n",
       "2     28                         115              3                      38   \n",
       "3     27                         105              3                      48   \n",
       "4     21                          55              3                      17   \n",
       "..   ...                         ...            ...                     ...   \n",
       "97    22                          70              1                      20   \n",
       "98    33                          85              4                      35   \n",
       "99    24                         110              6                      35   \n",
       "100   24                          75              3                      37   \n",
       "101   27                          60              1                      10   \n",
       "\n",
       "     Comments_Received_Per_Day  Messages_Sent_Per_Day  Gender_Male  \\\n",
       "0                           18                     22        False   \n",
       "1                            7                     12        False   \n",
       "2                           18                     27        False   \n",
       "3                           20                     28         True   \n",
       "4                            7                     12        False   \n",
       "..                         ...                    ...          ...   \n",
       "97                           5                     22         True   \n",
       "98                          18                     18         True   \n",
       "99                          23                     25        False   \n",
       "100                         16                     22         True   \n",
       "101                          4                     15         True   \n",
       "\n",
       "     Gender_Non-binary  Platform_Instagram  Platform_LinkedIn  \\\n",
       "0                False               False              False   \n",
       "1                 True               False              False   \n",
       "2                 True               False              False   \n",
       "3                False               False              False   \n",
       "4                 True               False              False   \n",
       "..                 ...                 ...                ...   \n",
       "97               False               False              False   \n",
       "98               False               False               True   \n",
       "99                True               False              False   \n",
       "100              False               False              False   \n",
       "101              False               False              False   \n",
       "\n",
       "     Platform_Snapchat  Platform_Telegram  Platform_Twitter  Platform_Whatsapp  \n",
       "0                 True              False             False              False  \n",
       "1                 True              False             False              False  \n",
       "2                 True              False             False              False  \n",
       "3                False               True             False              False  \n",
       "4                False              False             False              False  \n",
       "..                 ...                ...               ...                ...  \n",
       "97               False              False              True              False  \n",
       "98               False              False             False              False  \n",
       "99               False              False             False              False  \n",
       "100              False               True             False              False  \n",
       "101              False              False             False              False  \n",
       "\n",
       "[102 rows x 14 columns]"
      ],
      "text/html": [
       "<div>\n",
       "<style scoped>\n",
       "    .dataframe tbody tr th:only-of-type {\n",
       "        vertical-align: middle;\n",
       "    }\n",
       "\n",
       "    .dataframe tbody tr th {\n",
       "        vertical-align: top;\n",
       "    }\n",
       "\n",
       "    .dataframe thead th {\n",
       "        text-align: right;\n",
       "    }\n",
       "</style>\n",
       "<table border=\"1\" class=\"dataframe\">\n",
       "  <thead>\n",
       "    <tr style=\"text-align: right;\">\n",
       "      <th></th>\n",
       "      <th>Age</th>\n",
       "      <th>Daily_Usage_Time (minutes)</th>\n",
       "      <th>Posts_Per_Day</th>\n",
       "      <th>Likes_Received_Per_Day</th>\n",
       "      <th>Comments_Received_Per_Day</th>\n",
       "      <th>Messages_Sent_Per_Day</th>\n",
       "      <th>Gender_Male</th>\n",
       "      <th>Gender_Non-binary</th>\n",
       "      <th>Platform_Instagram</th>\n",
       "      <th>Platform_LinkedIn</th>\n",
       "      <th>Platform_Snapchat</th>\n",
       "      <th>Platform_Telegram</th>\n",
       "      <th>Platform_Twitter</th>\n",
       "      <th>Platform_Whatsapp</th>\n",
       "    </tr>\n",
       "  </thead>\n",
       "  <tbody>\n",
       "    <tr>\n",
       "      <th>0</th>\n",
       "      <td>27</td>\n",
       "      <td>120</td>\n",
       "      <td>4</td>\n",
       "      <td>40</td>\n",
       "      <td>18</td>\n",
       "      <td>22</td>\n",
       "      <td>False</td>\n",
       "      <td>False</td>\n",
       "      <td>False</td>\n",
       "      <td>False</td>\n",
       "      <td>True</td>\n",
       "      <td>False</td>\n",
       "      <td>False</td>\n",
       "      <td>False</td>\n",
       "    </tr>\n",
       "    <tr>\n",
       "      <th>1</th>\n",
       "      <td>21</td>\n",
       "      <td>60</td>\n",
       "      <td>1</td>\n",
       "      <td>18</td>\n",
       "      <td>7</td>\n",
       "      <td>12</td>\n",
       "      <td>False</td>\n",
       "      <td>True</td>\n",
       "      <td>False</td>\n",
       "      <td>False</td>\n",
       "      <td>True</td>\n",
       "      <td>False</td>\n",
       "      <td>False</td>\n",
       "      <td>False</td>\n",
       "    </tr>\n",
       "    <tr>\n",
       "      <th>2</th>\n",
       "      <td>28</td>\n",
       "      <td>115</td>\n",
       "      <td>3</td>\n",
       "      <td>38</td>\n",
       "      <td>18</td>\n",
       "      <td>27</td>\n",
       "      <td>False</td>\n",
       "      <td>True</td>\n",
       "      <td>False</td>\n",
       "      <td>False</td>\n",
       "      <td>True</td>\n",
       "      <td>False</td>\n",
       "      <td>False</td>\n",
       "      <td>False</td>\n",
       "    </tr>\n",
       "    <tr>\n",
       "      <th>3</th>\n",
       "      <td>27</td>\n",
       "      <td>105</td>\n",
       "      <td>3</td>\n",
       "      <td>48</td>\n",
       "      <td>20</td>\n",
       "      <td>28</td>\n",
       "      <td>True</td>\n",
       "      <td>False</td>\n",
       "      <td>False</td>\n",
       "      <td>False</td>\n",
       "      <td>False</td>\n",
       "      <td>True</td>\n",
       "      <td>False</td>\n",
       "      <td>False</td>\n",
       "    </tr>\n",
       "    <tr>\n",
       "      <th>4</th>\n",
       "      <td>21</td>\n",
       "      <td>55</td>\n",
       "      <td>3</td>\n",
       "      <td>17</td>\n",
       "      <td>7</td>\n",
       "      <td>12</td>\n",
       "      <td>False</td>\n",
       "      <td>True</td>\n",
       "      <td>False</td>\n",
       "      <td>False</td>\n",
       "      <td>False</td>\n",
       "      <td>False</td>\n",
       "      <td>False</td>\n",
       "      <td>False</td>\n",
       "    </tr>\n",
       "    <tr>\n",
       "      <th>...</th>\n",
       "      <td>...</td>\n",
       "      <td>...</td>\n",
       "      <td>...</td>\n",
       "      <td>...</td>\n",
       "      <td>...</td>\n",
       "      <td>...</td>\n",
       "      <td>...</td>\n",
       "      <td>...</td>\n",
       "      <td>...</td>\n",
       "      <td>...</td>\n",
       "      <td>...</td>\n",
       "      <td>...</td>\n",
       "      <td>...</td>\n",
       "      <td>...</td>\n",
       "    </tr>\n",
       "    <tr>\n",
       "      <th>97</th>\n",
       "      <td>22</td>\n",
       "      <td>70</td>\n",
       "      <td>1</td>\n",
       "      <td>20</td>\n",
       "      <td>5</td>\n",
       "      <td>22</td>\n",
       "      <td>True</td>\n",
       "      <td>False</td>\n",
       "      <td>False</td>\n",
       "      <td>False</td>\n",
       "      <td>False</td>\n",
       "      <td>False</td>\n",
       "      <td>True</td>\n",
       "      <td>False</td>\n",
       "    </tr>\n",
       "    <tr>\n",
       "      <th>98</th>\n",
       "      <td>33</td>\n",
       "      <td>85</td>\n",
       "      <td>4</td>\n",
       "      <td>35</td>\n",
       "      <td>18</td>\n",
       "      <td>18</td>\n",
       "      <td>True</td>\n",
       "      <td>False</td>\n",
       "      <td>False</td>\n",
       "      <td>True</td>\n",
       "      <td>False</td>\n",
       "      <td>False</td>\n",
       "      <td>False</td>\n",
       "      <td>False</td>\n",
       "    </tr>\n",
       "    <tr>\n",
       "      <th>99</th>\n",
       "      <td>24</td>\n",
       "      <td>110</td>\n",
       "      <td>6</td>\n",
       "      <td>35</td>\n",
       "      <td>23</td>\n",
       "      <td>25</td>\n",
       "      <td>False</td>\n",
       "      <td>True</td>\n",
       "      <td>False</td>\n",
       "      <td>False</td>\n",
       "      <td>False</td>\n",
       "      <td>False</td>\n",
       "      <td>False</td>\n",
       "      <td>False</td>\n",
       "    </tr>\n",
       "    <tr>\n",
       "      <th>100</th>\n",
       "      <td>24</td>\n",
       "      <td>75</td>\n",
       "      <td>3</td>\n",
       "      <td>37</td>\n",
       "      <td>16</td>\n",
       "      <td>22</td>\n",
       "      <td>True</td>\n",
       "      <td>False</td>\n",
       "      <td>False</td>\n",
       "      <td>False</td>\n",
       "      <td>False</td>\n",
       "      <td>True</td>\n",
       "      <td>False</td>\n",
       "      <td>False</td>\n",
       "    </tr>\n",
       "    <tr>\n",
       "      <th>101</th>\n",
       "      <td>27</td>\n",
       "      <td>60</td>\n",
       "      <td>1</td>\n",
       "      <td>10</td>\n",
       "      <td>4</td>\n",
       "      <td>15</td>\n",
       "      <td>True</td>\n",
       "      <td>False</td>\n",
       "      <td>False</td>\n",
       "      <td>False</td>\n",
       "      <td>False</td>\n",
       "      <td>False</td>\n",
       "      <td>False</td>\n",
       "      <td>False</td>\n",
       "    </tr>\n",
       "  </tbody>\n",
       "</table>\n",
       "<p>102 rows × 14 columns</p>\n",
       "</div>"
      ]
     },
     "execution_count": 15,
     "metadata": {},
     "output_type": "execute_result"
    }
   ],
   "execution_count": 15
  },
  {
   "cell_type": "code",
   "id": "dfc12cd2045d520c",
   "metadata": {
    "ExecuteTime": {
     "end_time": "2024-12-19T13:12:46.831627Z",
     "start_time": "2024-12-19T13:12:46.769177Z"
    }
   },
   "source": "bagging_clf.predict(d)[0]",
   "outputs": [
    {
     "data": {
      "text/plain": [
       "'Happiness'"
      ]
     },
     "execution_count": 16,
     "metadata": {},
     "output_type": "execute_result"
    }
   ],
   "execution_count": 16
  },
  {
   "cell_type": "code",
   "id": "47fe102a8d1ba3e3",
   "metadata": {
    "ExecuteTime": {
     "end_time": "2024-12-19T13:12:46.836392Z",
     "start_time": "2024-12-19T13:12:46.832687Z"
    }
   },
   "source": [
    "features = ['Age', 'Gender', 'Platform', 'Daily_Usage_Time (minutes)', 'Posts_Per_Day', 'Likes_Received_Per_Day',\n",
    "            'Comments_Received_Per_Day', 'Messages_Sent_Per_Day']\n"
   ],
   "outputs": [],
   "execution_count": 17
  },
  {
   "cell_type": "code",
   "id": "dbb9bdb445843bea",
   "metadata": {
    "ExecuteTime": {
     "end_time": "2024-12-19T13:12:46.844021Z",
     "start_time": "2024-12-19T13:12:46.837555Z"
    }
   },
   "source": "user_data = {'Age': '12', 'Gender': 'Female', 'Platform': 'Snapchat', 'Daily_Usage_Time (minutes)': '12', 'Posts_Per_Day': '12', 'Likes_Received_Per_Day': '12', 'Comments_Received_Per_Day': '12', 'Messages_Sent_Per_Day': '12'}",
   "outputs": [],
   "execution_count": 18
  },
  {
   "cell_type": "code",
   "id": "ffb92887898d60fd",
   "metadata": {
    "ExecuteTime": {
     "end_time": "2024-12-19T13:12:46.854937Z",
     "start_time": "2024-12-19T13:12:46.845063Z"
    }
   },
   "source": [
    "user_df = pd.DataFrame([user_data], columns=features)\n",
    "user_df"
   ],
   "outputs": [
    {
     "data": {
      "text/plain": [
       "  Age  Gender  Platform Daily_Usage_Time (minutes) Posts_Per_Day  \\\n",
       "0  12  Female  Snapchat                         12            12   \n",
       "\n",
       "  Likes_Received_Per_Day Comments_Received_Per_Day Messages_Sent_Per_Day  \n",
       "0                     12                        12                    12  "
      ],
      "text/html": [
       "<div>\n",
       "<style scoped>\n",
       "    .dataframe tbody tr th:only-of-type {\n",
       "        vertical-align: middle;\n",
       "    }\n",
       "\n",
       "    .dataframe tbody tr th {\n",
       "        vertical-align: top;\n",
       "    }\n",
       "\n",
       "    .dataframe thead th {\n",
       "        text-align: right;\n",
       "    }\n",
       "</style>\n",
       "<table border=\"1\" class=\"dataframe\">\n",
       "  <thead>\n",
       "    <tr style=\"text-align: right;\">\n",
       "      <th></th>\n",
       "      <th>Age</th>\n",
       "      <th>Gender</th>\n",
       "      <th>Platform</th>\n",
       "      <th>Daily_Usage_Time (minutes)</th>\n",
       "      <th>Posts_Per_Day</th>\n",
       "      <th>Likes_Received_Per_Day</th>\n",
       "      <th>Comments_Received_Per_Day</th>\n",
       "      <th>Messages_Sent_Per_Day</th>\n",
       "    </tr>\n",
       "  </thead>\n",
       "  <tbody>\n",
       "    <tr>\n",
       "      <th>0</th>\n",
       "      <td>12</td>\n",
       "      <td>Female</td>\n",
       "      <td>Snapchat</td>\n",
       "      <td>12</td>\n",
       "      <td>12</td>\n",
       "      <td>12</td>\n",
       "      <td>12</td>\n",
       "      <td>12</td>\n",
       "    </tr>\n",
       "  </tbody>\n",
       "</table>\n",
       "</div>"
      ]
     },
     "execution_count": 19,
     "metadata": {},
     "output_type": "execute_result"
    }
   ],
   "execution_count": 19
  },
  {
   "cell_type": "code",
   "id": "e9a638f131519165",
   "metadata": {
    "ExecuteTime": {
     "end_time": "2024-12-19T13:17:23.445713Z",
     "start_time": "2024-12-19T13:17:23.440440Z"
    }
   },
   "source": [
    "import numpy as np\n",
    "list(set(test_y['Dominant_Emotion']))"
   ],
   "outputs": [
    {
     "data": {
      "text/plain": [
       "['Sadness', 'Anxiety', 'Neutral', 'Anger', 'Happiness', 'Boredom']"
      ]
     },
     "execution_count": 30,
     "metadata": {},
     "output_type": "execute_result"
    }
   ],
   "execution_count": 30
  },
  {
   "metadata": {
    "ExecuteTime": {
     "end_time": "2024-12-20T15:27:16.229033Z",
     "start_time": "2024-12-20T15:27:16.225344Z"
    }
   },
   "cell_type": "code",
   "source": "import numpy as np",
   "id": "aa01e0c2accac2f6",
   "outputs": [],
   "execution_count": 2
  },
  {
   "metadata": {
    "ExecuteTime": {
     "end_time": "2024-12-20T15:27:30.174794Z",
     "start_time": "2024-12-20T15:27:30.169105Z"
    }
   },
   "cell_type": "code",
   "source": "a = np.random.randn(5, 1)",
   "id": "a1de012aad36fbc0",
   "outputs": [],
   "execution_count": 4
  },
  {
   "metadata": {
    "ExecuteTime": {
     "end_time": "2024-12-20T15:27:38.542060Z",
     "start_time": "2024-12-20T15:27:38.535513Z"
    }
   },
   "cell_type": "code",
   "source": "a / a * 3",
   "id": "3dbe920c675b9224",
   "outputs": [
    {
     "data": {
      "text/plain": [
       "array([[3.],\n",
       "       [3.],\n",
       "       [3.],\n",
       "       [3.],\n",
       "       [3.]])"
      ]
     },
     "execution_count": 6,
     "metadata": {},
     "output_type": "execute_result"
    }
   ],
   "execution_count": 6
  },
  {
   "metadata": {},
   "cell_type": "code",
   "outputs": [],
   "execution_count": null,
   "source": "",
   "id": "19e3bed98486d06c"
  }
 ],
 "metadata": {
  "kernelspec": {
   "display_name": "Python 3 (ipykernel)",
   "language": "python",
   "name": "python3"
  },
  "language_info": {
   "codemirror_mode": {
    "name": "ipython",
    "version": 3
   },
   "file_extension": ".py",
   "mimetype": "text/x-python",
   "name": "python",
   "nbconvert_exporter": "python",
   "pygments_lexer": "ipython3",
   "version": "3.11.9"
  }
 },
 "nbformat": 4,
 "nbformat_minor": 5
}
